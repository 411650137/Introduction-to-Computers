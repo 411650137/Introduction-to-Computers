{
  "nbformat": 4,
  "nbformat_minor": 0,
  "metadata": {
    "colab": {
      "provenance": [],
      "authorship_tag": "ABX9TyM+7SPxPU6WcouQoMSyTeoR",
      "include_colab_link": true
    },
    "kernelspec": {
      "name": "python3",
      "display_name": "Python 3"
    },
    "language_info": {
      "name": "python"
    }
  },
  "cells": [
    {
      "cell_type": "markdown",
      "metadata": {
        "id": "view-in-github",
        "colab_type": "text"
      },
      "source": [
        "<a href=\"https://colab.research.google.com/github/411650137/Introduction-to-Computers/blob/main/0517.ipynb\" target=\"_parent\"><img src=\"https://colab.research.google.com/assets/colab-badge.svg\" alt=\"Open In Colab\"/></a>"
      ]
    },
    {
      "cell_type": "code",
      "execution_count": 5,
      "metadata": {
        "colab": {
          "base_uri": "https://localhost:8080/"
        },
        "id": "RPrK5-zBx6_D",
        "outputId": "d1e235b1-1767-4ff3-a895-2048ae68d655"
      },
      "outputs": [
        {
          "output_type": "stream",
          "name": "stdout",
          "text": [
            "score: 89\n",
            "Grade is: B\n"
          ]
        }
      ],
      "source": [
        "score = int(input(\"score: \"))\n",
        "if score >=90:\n",
        "  print('Grade is: A')\n",
        "elif score >= 80:\n",
        "  print('Grade is: B')\n",
        "elif score >= 70:\n",
        "   print('Grade is: C')\n",
        "elif score >= 60:\n",
        "   print('Grade is: D')"
      ]
    },
    {
      "cell_type": "code",
      "source": [
        "rain = str(input(\"今天會下雨嗎? \"))\n",
        "if(rain == \"y\" or rain == \"Y\"):\n",
        " print(\"出門記得帶傘\")\n",
        "elif(rain != \"y\" or rain != \"Y\"):\n",
        " print(\"請重新輸入\")"
      ],
      "metadata": {
        "colab": {
          "base_uri": "https://localhost:8080/"
        },
        "id": "a51DZbkp1N7F",
        "outputId": "9d49a921-77a6-4866-c1b1-04ebc9f62a76"
      },
      "execution_count": 10,
      "outputs": [
        {
          "output_type": "stream",
          "name": "stdout",
          "text": [
            "今天會下雨嗎? d\n",
            "請重新輸入\n"
          ]
        }
      ]
    },
    {
      "cell_type": "code",
      "source": [
        "a = float(input())\n",
        "if(a >= 37.5):\n",
        "  print(\"體溫過高\")\n",
        "elif(a >= 37):\n",
        "  print(\"體溫略高\")\n",
        "elif(a >= 34):\n",
        "  print(\"體溫正常\")\n",
        "else:\n",
        "  print(\"體溫異常，請重新測量\")"
      ],
      "metadata": {
        "colab": {
          "base_uri": "https://localhost:8080/"
        },
        "id": "VJC23GHc2C7w",
        "outputId": "bd5e0514-24de-4ab5-cd0d-f95a0102b392"
      },
      "execution_count": 14,
      "outputs": [
        {
          "output_type": "stream",
          "name": "stdout",
          "text": [
            "37.4\n",
            "體溫略高\n"
          ]
        }
      ]
    },
    {
      "cell_type": "code",
      "source": [
        "score = int(input(\"請輸入成績\"))\n",
        "if score >=90:\n",
        "  print('A')\n",
        "elif score >= 80:\n",
        "  print('B')\n",
        "elif score >= 70:\n",
        "   print('C')\n",
        "elif score >= 60:\n",
        "   print('D')"
      ],
      "metadata": {
        "colab": {
          "base_uri": "https://localhost:8080/"
        },
        "id": "qZeJd3dP3NKp",
        "outputId": "72641fec-a58a-49ba-9556-f999c4ad30e8"
      },
      "execution_count": 16,
      "outputs": [
        {
          "output_type": "stream",
          "name": "stdout",
          "text": [
            "請輸入成績90\n",
            "A\n"
          ]
        }
      ]
    },
    {
      "cell_type": "code",
      "source": [
        "month = int(input())\n",
        "if (month>=1 and month<=12):\n",
        "  if (month==3 or month==4 or month==5):\n",
        "   print(\"%d 月是春天!\" % month)\n",
        "  elif (month==6 or month==7 or month==8):\n",
        "   print(\"%d 月是夏天!\" % month)\n",
        "  elif (month==9 or month==10 or month==11):\n",
        "   print(\"%d 月是秋天!\" % month)\n",
        "  else: \n",
        "   print(\"%d 月是冬天!\" % month)\n",
        "else:\n",
        "  print(\"輸入錯誤  %d 月不在範圍內!\" % month)"
      ],
      "metadata": {
        "colab": {
          "base_uri": "https://localhost:8080/"
        },
        "id": "QRjJTOz33f4T",
        "outputId": "b7e833fa-1cd5-4f51-c9bb-95d2e7daa830"
      },
      "execution_count": 18,
      "outputs": [
        {
          "output_type": "stream",
          "name": "stdout",
          "text": [
            "5\n",
            "5 月是春天!\n"
          ]
        }
      ]
    },
    {
      "cell_type": "code",
      "source": [
        "b = int(input(\"請輸入今年收入淨額: \"))\n",
        "if(b >= 2000000):\n",
        "  B = b * 0.3\n",
        "  print(\"賦稅金額: %.1f 元\" % B)\n",
        "elif(b >= 1000000):\n",
        "  B = b * 0.21\n",
        "  print(\"賦稅金額: %.1f 元\" % B)\n",
        "elif(b >= 600000):\n",
        "  B = b * 0.13\n",
        "  print(\"賦稅金額: %.1f 元\" % B)\n",
        "elif(b >= 300000):\n",
        "  B = b * 0.06\n",
        "  print(\"賦稅金額: %.1f 元\" % B)\n",
        "else:\n",
        "  print(\"賦稅金額: 0 元\")"
      ],
      "metadata": {
        "colab": {
          "base_uri": "https://localhost:8080/"
        },
        "id": "pAkqvrwI4dB2",
        "outputId": "4bbad2f9-0272-4d02-d088-705862330235"
      },
      "execution_count": 33,
      "outputs": [
        {
          "output_type": "stream",
          "name": "stdout",
          "text": [
            "請輸入今年收入淨額: 2000000\n",
            "賦稅金額: 600000.0 元\n"
          ]
        }
      ]
    },
    {
      "cell_type": "code",
      "source": [],
      "metadata": {
        "id": "--s4GaeZ88Sa"
      },
      "execution_count": null,
      "outputs": []
    }
  ]
}