{
  "nbformat": 4,
  "nbformat_minor": 0,
  "metadata": {
    "colab": {
      "provenance": [],
      "authorship_tag": "ABX9TyO+eUc5ZsUX+F4wcsz7Lx0l",
      "include_colab_link": true
    },
    "kernelspec": {
      "name": "python3",
      "display_name": "Python 3"
    },
    "language_info": {
      "name": "python"
    }
  },
  "cells": [
    {
      "cell_type": "markdown",
      "metadata": {
        "id": "view-in-github",
        "colab_type": "text"
      },
      "source": [
        "<a href=\"https://colab.research.google.com/github/411650137/Introduction-to-Computers/blob/main/0510.ipynb\" target=\"_parent\"><img src=\"https://colab.research.google.com/assets/colab-badge.svg\" alt=\"Open In Colab\"/></a>"
      ]
    },
    {
      "cell_type": "code",
      "execution_count": 10,
      "metadata": {
        "colab": {
          "base_uri": "https://localhost:8080/"
        },
        "id": "9RQjcy7GuLRV",
        "outputId": "30926250-18b9-45a7-e4d0-806cbe33d593"
      },
      "outputs": [
        {
          "output_type": "stream",
          "name": "stdout",
          "text": [
            "1212\n",
            "歡迎光臨\n"
          ]
        }
      ],
      "source": [
        "a = int(input())\n",
        "if a == 1212:\n",
        "  print(\"歡迎光臨\")"
      ]
    },
    {
      "cell_type": "code",
      "source": [
        "b = int(input())\n",
        "if b == 1212:\n",
        "  print(\"歡迎光臨\")\n",
        "else:\n",
        "  print(\"密碼不正確\")"
      ],
      "metadata": {
        "colab": {
          "base_uri": "https://localhost:8080/"
        },
        "id": "s4UlXAxfzhrx",
        "outputId": "fb5e3048-72f9-4839-f838-b922497d1935"
      },
      "execution_count": 13,
      "outputs": [
        {
          "output_type": "stream",
          "name": "stdout",
          "text": [
            "1212\n",
            "歡迎光臨\n"
          ]
        }
      ]
    },
    {
      "cell_type": "code",
      "source": [
        "print(\"今天會下雨嗎?\")\n",
        "rain = str(input())\n",
        "if(rain == \"y\" or rain == \"Y\"):\n",
        " print(\"出門記得帶傘\")"
      ],
      "metadata": {
        "colab": {
          "base_uri": "https://localhost:8080/"
        },
        "id": "GIqjpNrU1Ecz",
        "outputId": "4b09974c-ecce-403c-84a6-96d1e32e87cd"
      },
      "execution_count": 24,
      "outputs": [
        {
          "output_type": "stream",
          "name": "stdout",
          "text": [
            "今天會下雨嗎?\n",
            "y\n",
            "出門記得帶傘\n"
          ]
        }
      ]
    },
    {
      "cell_type": "code",
      "source": [
        "c = int(input())\n",
        "if(c % 2 ==0):\n",
        "  print(\"{} 為偶數!\".format(c))\n",
        "else:\n",
        "  print(\"{} 為奇數!\".format(c))"
      ],
      "metadata": {
        "colab": {
          "base_uri": "https://localhost:8080/"
        },
        "id": "m61HZH2y2gWC",
        "outputId": "9a810c2e-87b3-4514-d728-b7877abafb79"
      },
      "execution_count": 23,
      "outputs": [
        {
          "output_type": "stream",
          "name": "stdout",
          "text": [
            "51\n",
            "51 為奇數!\n"
          ]
        }
      ]
    }
  ]
}